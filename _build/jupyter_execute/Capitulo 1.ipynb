{
 "cells": [
  {
   "cell_type": "markdown",
   "id": "2b768bd3",
   "metadata": {},
   "source": [
    "# Capitulo 1\n",
    "\n",
    "## Introducción\n",
    "\n",
    "La ingeniería es una disciplina que se encarga de resolver problemas de la vida cotidiana, para ello se vale de la ciencia y la tecnología. La ingeniería se divide en varias ramas, entre las cuales se encuentran la ingeniería civil, la ingeniería mecánica, la ingeniería eléctrica, la ingeniería química, la ingeniería industrial, la ingeniería de sistemas, entre otras. Cada una de estas ramas se encarga de resolver problemas específicos, sin embargo, todas tienen en común el uso de las matemáticas y la física para resolver problemas."
   ]
  },
  {
   "cell_type": "code",
   "execution_count": 1,
   "id": "9e5317f3",
   "metadata": {},
   "outputs": [
    {
     "name": "stdout",
     "output_type": "stream",
     "text": [
      "1.27\n"
     ]
    }
   ],
   "source": [
    "diam=0.5\n",
    "area=3.1416*(diam*2.54)**2/4\n",
    "print (round(area,2))"
   ]
  },
  {
   "cell_type": "markdown",
   "id": "2946b621",
   "metadata": {},
   "source": [
    "## Sistema de Unidades\n",
    "\n",
    "La ingeniería es una disciplina que se encarga de resolver problemas de la vida cotidiana, para ello se vale de la ciencia y la tecnología. La ingeniería se divide en varias ramas, entre las cuales se encuentran la ingeniería civil, la ingeniería mecánica, la ingeniería eléctrica, la ingeniería química, la ingeniería industrial, la ingeniería de sistemas, entre otras. Cada una de estas ramas se encarga de resolver problemas específicos, sin embargo, todas tienen en común el uso de las matemáticas y la física para resolver problemas.\n",
    "\n",
    "\n",
    "## Conversion de Unidades\n",
    "\n",
    "La ingeniería es una disciplina que se encarga de resolver problemas de la vida cotidiana, para ello se vale de la ciencia y la tecnología. La ingeniería se divide en varias ramas, entre las cuales se encuentran la ingeniería civil, la ingeniería mecánica, la ingeniería eléctrica, la ingeniería química, la ingeniería industrial, la ingeniería de sistemas, entre otras. Cada una de estas ramas se encarga de resolver problemas específicos, sin embargo, todas tienen en común el uso de las matemáticas y la física para resolver problemas.\n",
    "\n",
    "\n",
    "## Ejemplos\n",
    "\n",
    "La ingeniería es una disciplina que se encarga de resolver problemas de la vida cotidiana, para ello se vale de la ciencia y la tecnología. La ingeniería se divide en varias ramas, entre las cuales se encuentran la ingeniería civil, la ingeniería mecánica, la ingeniería eléctrica, la ingeniería química, la ingeniería industrial, la ingeniería de sistemas, entre otras. Cada una de estas ramas se encarga de resolver problemas específicos, sin embargo, todas tienen en común el uso de las matemáticas y la física para resolver problemas.\n",
    "\n",
    "\n",
    "## Resumen\n",
    "\n",
    "La ingeniería es una disciplina que se encarga de resolver problemas de la vida cotidiana, para ello se vale de la ciencia y la tecnología. La ingeniería se divide en varias ramas, entre las cuales se encuentran la ingeniería civil, la ingeniería mecánica, la ingeniería eléctrica, la ingeniería química, la ingeniería industrial, la ingeniería de sistemas, entre otras. Cada una de estas ramas se encarga de resolver problemas específicos, sin embargo, todas tienen en común el uso de las matemáticas y la física para resolver problemas.\n",
    "\n",
    "\n",
    "## Ejercicios\n",
    "\n",
    "La ingeniería es una disciplina que se encarga de resolver problemas de la vida cotidiana, para ello se vale de la ciencia y la tecnología. La ingeniería se divide en varias ramas, entre las cuales se encuentran la ingeniería civil, la ingeniería mecánica, la ingeniería eléctrica, la ingeniería química, la ingeniería industrial, la ingeniería de sistemas, entre otras. Cada una de estas ramas se encarga de resolver problemas específicos, sin embargo, todas tienen en común el uso de las matemáticas y la física para resolver problemas.\n",
    "\n",
    "\n",
    "## Soluciones\n",
    "\n",
    "La ingeniería es una disciplina que se encarga de resolver problemas de la vida cotidiana, para ello se vale de la ciencia y la tecnología. La ingeniería se divide en varias ramas, entre las cuales se encuentran la ingeniería civil, la ingeniería mecánica, la ingeniería eléctrica, la ingeniería química, la ingeniería industrial, la ingeniería de sistemas, entre otras. Cada una de estas ramas se encarga de resolver problemas específicos, sin embargo, todas tienen en común el uso de las matemáticas y la física para resolver problemas.\n",
    "\n",
    "\n",
    "## Referencias\n",
    "\n",
    "La ingeniería es una disciplina que se encarga de resolver problemas de la vida cotidiana, para ello se vale de la ciencia y la tecnología. La ingeniería se divide en varias ramas, entre las cuales se encuentran la ingeniería civil, la ingeniería mecánica, la ingeniería eléctrica, la ingeniería química, la ingeniería industrial, la ingeniería de sistemas, entre otras. Cada una de estas ramas se encarga de resolver problemas específicos, sin embargo, todas tienen en común el uso de las matemáticas y la física para resolver problemas.\n",
    "\n",
    "\n",
    "## Notas\n",
    "\n",
    "La ingeniería es una disciplina que se encarga de resolver problemas de la vida cotidiana, para ello se vale de la ciencia y la tecnología. La ingeniería se divide en varias ramas, entre las cuales se encuentran la ingeniería civil, la ingeniería mecánica, la ingeniería eléctrica, la ingeniería química, la ingeniería industrial, la ingeniería de sistemas, entre otras. Cada una de estas ramas se encarga de resolver problemas específicos, sin embargo, todas tienen en común el uso de las matemáticas y la física para resolver problemas.\n",
    "\n",
    "\n",
    "## Formulario\n",
    "\n",
    "La ingeniería es una disciplina que se encarga de resolver problemas de la vida cotidiana, para ello se vale de la ciencia y la tecnología. La ingeniería se divide en varias ramas, entre las cuales se encuentran la ingeniería civil, la ingeniería mecánica, la ingeniería eléctrica, la ingeniería química, la ingeniería industrial, la ingeniería de sistemas, entre otras. Cada una de estas ramas se encarga de resolver problemas específicos, sin embargo, todas tienen en común el uso de las matemáticas y la física para resolver problemas."
   ]
  }
 ],
 "metadata": {
  "jupytext": {
   "formats": "md:myst",
   "text_representation": {
    "extension": ".md",
    "format_name": "myst",
    "format_version": 0.13,
    "jupytext_version": "1.11.5"
   }
  },
  "kernelspec": {
   "display_name": "Python 3",
   "language": "python",
   "name": "python3"
  },
  "language_info": {
   "codemirror_mode": {
    "name": "ipython",
    "version": 3
   },
   "file_extension": ".py",
   "mimetype": "text/x-python",
   "name": "python",
   "nbconvert_exporter": "python",
   "pygments_lexer": "ipython3",
   "version": "3.11.5"
  },
  "source_map": [
   13,
   21,
   25
  ]
 },
 "nbformat": 4,
 "nbformat_minor": 5
}